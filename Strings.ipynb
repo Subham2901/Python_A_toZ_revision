{
  "nbformat": 4,
  "nbformat_minor": 0,
  "metadata": {
    "colab": {
      "provenance": []
    },
    "kernelspec": {
      "name": "python3",
      "display_name": "Python 3"
    },
    "language_info": {
      "name": "python"
    }
  },
  "cells": [
    {
      "cell_type": "markdown",
      "source": [
        "**Python Basic Notes**\n",
        "Contents :\n",
        "\n",
        "1. Strings.\n",
        "2. List.\n",
        "3. Tuple.\n",
        "4. Dictionary\n",
        "5. Set\n",
        "6. If else\n",
        "7. Loops\n"
      ],
      "metadata": {
        "id": "yvdrFB_ZlJfu"
      }
    },
    {
      "cell_type": "code",
      "execution_count": null,
      "metadata": {
        "id": "cGDaAkFvlDi2"
      },
      "outputs": [],
      "source": []
    },
    {
      "cell_type": "markdown",
      "source": [
        "**Strings**\n",
        "1. A sequence of characters which can be represented either with single, double or tripple quotes."
      ],
      "metadata": {
        "id": "xbkf1fQDlKDr"
      }
    },
    {
      "cell_type": "code",
      "source": [
        "#len() and str() methods.\n",
        "\n",
        "text = \"Hello world\"\n",
        "print(len(text)) # output 11\n",
        "\n",
        "num = 3\n",
        "print(str(num))  #output 3\n",
        "print(type(str(num))) # type will be string.\n",
        "\n",
        "\n"
      ],
      "metadata": {
        "colab": {
          "base_uri": "https://localhost:8080/"
        },
        "id": "SdNSQu5yqMGc",
        "outputId": "c9c9dca5-f94a-4fc9-e63e-0fd05e806bfd"
      },
      "execution_count": null,
      "outputs": [
        {
          "output_type": "stream",
          "name": "stdout",
          "text": [
            "11\n",
            "3\n",
            "<class 'str'>\n"
          ]
        }
      ]
    },
    {
      "cell_type": "markdown",
      "source": [
        "**Whitespaces and Formatting**\n",
        "1. strip() -Removes the leading or trailing whitespace respectively\n",
        "2. lstrip()/rstrip() - Removs leading or trailing whitespaces respectively.\n",
        "3. lower()/upper() - Converts string to lowercase or uppercase.\n",
        "4. capitalise() - Capitalise the fist character.\n",
        "5. title() - Capitalizes the first letter of each word.\n",
        "6. swapcase() - Swaps case of each character."
      ],
      "metadata": {
        "id": "NKNyopgqtgMZ"
      }
    },
    {
      "cell_type": "code",
      "source": [
        "## Coding examples\n",
        "\n",
        "text1 = \"     Python is Dopeeee     \"   #example text.\n",
        "print(f'The default initial text  {text1}')  # The default text.\n",
        "\n",
        "print(text1.strip())  # Removes the leading or trailing whitespace respectively.\n",
        "\n",
        "print(text1.lstrip()) # Remove the leading trailing whitespaces\n",
        "\n",
        "print(text1.rstrip()) # removes the traling whitespaces.\n",
        "\n",
        "print(text1.upper()) #converts everything to upper.\n",
        "print(text1.lower()) #Convert everything to lower case.\n",
        "\n",
        "print(text1.capitalize()) # converts the first character to Capital.\n",
        "\n",
        "print(text1.title()) # converts the first letter of each word into a capital letter.\n",
        "\n",
        "print(text1.swapcase()) # swaps the cases of each characters.\n"
      ],
      "metadata": {
        "colab": {
          "base_uri": "https://localhost:8080/"
        },
        "id": "ObJ52QDlq7ws",
        "outputId": "2ca99a91-3920-4f52-bc59-fe4e1ae271af"
      },
      "execution_count": null,
      "outputs": [
        {
          "output_type": "stream",
          "name": "stdout",
          "text": [
            "The default initial text       Python is Dopeeee     \n",
            "Python is Dopeeee\n",
            "Python is Dopeeee     \n",
            "     Python is Dopeeee\n",
            "     PYTHON IS DOPEEEE     \n",
            "     python is dopeeee     \n",
            "     python is dopeeee     \n",
            "     Python Is Dopeeee     \n",
            "     pYTHON IS dOPEEEE     \n"
          ]
        }
      ]
    },
    {
      "cell_type": "markdown",
      "source": [
        "**Searching and Replacing Functions**\n",
        "\n",
        "1. find()/rfind() - Find the index of the substring(returns -1 if not found) rfind() searches from reverse.\n",
        "2.  index()/rindex() - Like find(), but raises an error if not found.\n",
        "3. replace(old,new) - Replaces the occurrances of the string.\n",
        "4. count() - Returns the total number of occurances of the count()."
      ],
      "metadata": {
        "id": "X5H1UyhW2t23"
      }
    },
    {
      "cell_type": "code",
      "source": [
        "text2 = \"Python is a easy programming language Python\"\n",
        "\n",
        "print(text2.find(\"ython\")) # returns the first index where the substring is found. output 1\n",
        "print(text2.rfind(\"ython\")) #Returns the index but the search happens from the end  output - 39\n",
        "print(text2.index(\"Python\")) # returns the starting index of the substring but if not found throws an error\n",
        "print(text2.rfind(\"Python\")) # Returns the starting index of the substring but the searching happens from the end.\n",
        "print(text2.replace(\"Python\",\"C++\")) # replaces the old substring with the new substring\n",
        "print(text2.count(\"Python\")) # returns the no of times the word Python occurs in the substring"
      ],
      "metadata": {
        "colab": {
          "base_uri": "https://localhost:8080/"
        },
        "id": "y3I6ZohLv-VF",
        "outputId": "6fe8f7e1-86ba-404f-ef4e-3c51359612e8"
      },
      "execution_count": null,
      "outputs": [
        {
          "output_type": "stream",
          "name": "stdout",
          "text": [
            "1\n",
            "39\n",
            "0\n",
            "38\n",
            "C++ is a easy programming language C++\n",
            "2\n"
          ]
        }
      ]
    },
    {
      "cell_type": "markdown",
      "source": [
        "**Splitting & Joining**\n",
        "1. spilt() - Splits string into a list\n",
        "2. rsplit() - Splits from the right.\n",
        "3. splitlines() - Splits the string at line breaks.\n",
        "4. join() - Joins elements of a list into a string."
      ],
      "metadata": {
        "id": "zjA7kbiF4xOv"
      }
    },
    {
      "cell_type": "code",
      "source": [
        "text3 = \"Apple,banana, Cherry\" # example string\n",
        "print(text3.split(\",\"))  #Output - ['Apple', 'banana', ' Cherry'] converts it to a string\n",
        "lines = 'line1\\nline2\\nline4\\nline5'  #output - ['line1', 'line2', 'line4', 'line5'] Converts each word before the escape sequence based on the escape character \\n.\n",
        "print(lines.splitlines())\n",
        "words = ['Python',\"is\",\"easy\"]  #\n",
        "print(\" \".join(words))  # This will join the words in the list"
      ],
      "metadata": {
        "colab": {
          "base_uri": "https://localhost:8080/"
        },
        "id": "0ZnDN-LN3W2f",
        "outputId": "3a441d15-db80-4497-bd65-848311c2adcd"
      },
      "execution_count": null,
      "outputs": [
        {
          "output_type": "stream",
          "name": "stdout",
          "text": [
            "['Apple', 'banana', ' Cherry']\n",
            "['line1', 'line2', 'line4', 'line5']\n",
            "Python is easy\n"
          ]
        }
      ]
    },
    {
      "cell_type": "markdown",
      "source": [
        "**Checking String Properties**\n",
        "1. startswith()/endswith()\n",
        "2. isalnum() - checks if all the characters are alphanumeric.\n",
        "3. isalpha() - checks if all the characters are alphabets.\n",
        "4. isdigit() - checks if all the characters are digits.\n",
        "5. isspace() - checks if all the characters are whitespaces.\n",
        "6. islower()/isupper() - Checks the case of the character ( all upper or lower)\n",
        "7. istitle() - Checks if the string is title cases ( every letter of the string starts with an uppercase character.\n"
      ],
      "metadata": {
        "id": "6crDjwiX7TFY"
      }
    },
    {
      "cell_type": "code",
      "source": [
        "# Examples\n",
        "text4= \"Python3\"\n",
        "print(text4.isalnum()) # returns True as the text is a alphanmeric\n",
        "\n",
        "print(text4.isalpha()) # Returns False as not all the characters are alphabets\n",
        "\n",
        "print(\"123\".isdigit()) # Returns true as all the characters are digits.\n",
        "\n",
        "print(\"   \".isspace()) # Returns true is all the characters are whitespaces\n",
        "\n",
        "print(\"hello\".islower()) #returns true if all the characters are in lowercase\n",
        "\n",
        "print(\"HELLO\".isupper()) # Returns True if all the characters are in upper case\n",
        "\n",
        "print(text4.startswith(\"Py\")) # if the string sequence starts with the mentiioend character or substring it will return True\n",
        "\n",
        "print(text4.endswith(\"3\")) # Returns True if the string ends with the mentioned character or substring"
      ],
      "metadata": {
        "colab": {
          "base_uri": "https://localhost:8080/"
        },
        "id": "pf9n345N5adL",
        "outputId": "57f612fc-6f3d-4ec1-8e0c-e2df68158d75"
      },
      "execution_count": null,
      "outputs": [
        {
          "output_type": "stream",
          "name": "stdout",
          "text": [
            "True\n",
            "False\n",
            "True\n",
            "True\n",
            "True\n",
            "True\n",
            "True\n",
            "True\n"
          ]
        }
      ]
    },
    {
      "cell_type": "markdown",
      "source": [
        "**String Alignment**\n",
        "1. .center(width) - Aligns the text at the center.\n",
        "2. .ljust(width) - Makes the text left justified.\n",
        "3. .rjust(width) - Makes the text right justified.\n",
        "4. zfill(width) -  Pads the string with zeros on the left."
      ],
      "metadata": {
        "id": "Ubn4Ev8Y9bd-"
      }
    },
    {
      "cell_type": "code",
      "source": [
        "#examples\n",
        "text5 = \"Python\"\n",
        "print(text5.center(10)) #Will align the text in center with width 10\n",
        "print(text5.ljust(10)) # Will left justify the text with width 10\n",
        "print(text5.rjust(10)) # Will right justify the text with width 10\n",
        "print(\"123\".zfill(8)) # will pad the digit with zeros at front  output - 00000123\n",
        "print(\"1234\".zfill(4)) #padding will only work if the mentioned width is not enough , output - 1234\n",
        "print(\"Python\".zfill(10))  #output 0000Python"
      ],
      "metadata": {
        "colab": {
          "base_uri": "https://localhost:8080/"
        },
        "id": "HntIY59e8XpK",
        "outputId": "b2d389f9-3ae2-48f9-815b-b71caf0a32d0"
      },
      "execution_count": null,
      "outputs": [
        {
          "output_type": "stream",
          "name": "stdout",
          "text": [
            "  Python  \n",
            "Python    \n",
            "    Python\n",
            "00000123\n",
            "1234\n",
            "0000Python\n"
          ]
        }
      ]
    },
    {
      "cell_type": "markdown",
      "source": [
        "**String Slicing**\n",
        "\n",
        "It is a process to access elements in the string.\n",
        "\n",
        "1. string[start:stop:step]"
      ],
      "metadata": {
        "id": "QzUtdXij7tMM"
      }
    },
    {
      "cell_type": "code",
      "source": [
        "# Example\n",
        "\n",
        "text6 = \"Python Programming\"\n",
        "print(text6[0:6]) # output Python ( It will print from the mentioend first element index till before the last index mentioned)  Output -Python\n",
        "\n",
        "print(text6[:6]) #Output python - if nothing that means from the starting or till the end.  Output -Python\n",
        "\n",
        "print(text6[7:]) # Output - Programming\n",
        "\n",
        "print(text6[-11:-1]) #negative indexing - (-1 means the last index) Output - Programmin\n",
        "\n",
        "print(text6[::-1]) # this will reverse the string entirely Output - gnimmargorP nohtyP"
      ],
      "metadata": {
        "colab": {
          "base_uri": "https://localhost:8080/"
        },
        "id": "rzr5I5F26lic",
        "outputId": "d9d5c919-71b7-47c2-a0a0-1feb839f2712"
      },
      "execution_count": null,
      "outputs": [
        {
          "output_type": "stream",
          "name": "stdout",
          "text": [
            "Python\n",
            "Python\n",
            "Programming\n",
            "Programmin\n",
            "gnimmargorP nohtyP\n"
          ]
        }
      ]
    },
    {
      "cell_type": "markdown",
      "source": [
        "**Other important string concepts**\n",
        "\n",
        "1. String Immutabilty - Strings in python are immutable. That is you cannot change the characters in Place that willl raise an error.\n"
      ],
      "metadata": {
        "id": "Qbs6Gq0l854L"
      }
    },
    {
      "cell_type": "code",
      "source": [
        "text7 = \"hello\"\n",
        "#text7[0] = \"H\" #This will raise an error error = 'str' object does not support item assignment\n",
        "text7= \"H\"+text7[1:] # you can concatenate like this if u really have to\n",
        "print(text7)"
      ],
      "metadata": {
        "colab": {
          "base_uri": "https://localhost:8080/"
        },
        "id": "lndBSwuK8Gwh",
        "outputId": "3ae60f54-5645-4d05-a653-06547f6a49ee"
      },
      "execution_count": null,
      "outputs": [
        {
          "output_type": "stream",
          "name": "stdout",
          "text": [
            "Hello\n"
          ]
        }
      ]
    },
    {
      "cell_type": "markdown",
      "source": [
        "Concatanation and repetition\n",
        "\n"
      ],
      "metadata": {
        "id": "AI7vhR3N9lb9"
      }
    },
    {
      "cell_type": "code",
      "source": [
        "a= \"hello\"\n",
        "b= \"World\"\n",
        "print(a+ \" \" + b) # The entire string will get concatenated\n",
        "\n",
        "print(2*a) #This will print hellohello"
      ],
      "metadata": {
        "colab": {
          "base_uri": "https://localhost:8080/"
        },
        "id": "ELCqemvP9SBm",
        "outputId": "ca1f0a5d-6ee6-41d1-856d-d706491adeb3"
      },
      "execution_count": null,
      "outputs": [
        {
          "output_type": "stream",
          "name": "stdout",
          "text": [
            "hello World\n",
            "hellohello\n"
          ]
        }
      ]
    },
    {
      "cell_type": "markdown",
      "source": [
        "Other imporntat string fucntions:"
      ],
      "metadata": {
        "id": "W7ispMQS95z5"
      }
    },
    {
      "cell_type": "code",
      "source": [
        "# f-strings\n",
        "\n",
        "name = \"Subham\"\n",
        "age=25\n",
        "print(f\"my name is {name} and my age is {age}\") # by using f-strings we can directly\n",
        "\n",
        "\n",
        "#.format() method\n",
        "\n",
        "print(\"my name is {} and i am {} years old\".format(name,age))\n",
        "\n",
        "# escape characters\n",
        "\n",
        "text = \"He said, \\\"Python is awesome!\\\"\" # to add quotes in python within quotes.\n",
        "newline = \"Line1\\nLine2\" # to add a new line\n",
        "tabbed = \"Column1\\tColumn2\" # to add a tabbed space\n",
        "\n",
        "print(text)\n",
        "print(newline)\n",
        "print(tabbed)\n",
        "\n",
        "\n",
        "\n",
        "# Raw string\n",
        "\n",
        "path = r\"C:\\Users\\Subham\\Documents\" # this is used for regex and file paths.\n",
        "\n",
        "\n",
        "\n",
        "\n",
        "print(encoded)\n",
        "print(decoded)\n",
        "\n",
        "# comparision\n",
        "a = \"apple\"\n",
        "b = \"banana\"\n",
        "print(a == b)       # False\n",
        "print(a < b)        # True (lexicographical comparison)\n",
        "\"\"\"\n",
        "Lexicographical comparison in Python (and in general) means comparing strings based on the alphabetical order of their characters, similar to how words are ordered in a dictionary.\n",
        "Think of it like:\n",
        "\n",
        "Compare the first character of each string.\n",
        "If they are the same, compare the second character, and so on.\n",
        "The comparison is based on the Unicode (ASCII) value of each character.\n",
        "\"\"\"\n",
        "#using in and not in\n",
        "text = \"Python is fun\"\n",
        "print(\"fun\" in text)       # True\n",
        "print(\"boring\" not in text) # True\n"
      ],
      "metadata": {
        "colab": {
          "base_uri": "https://localhost:8080/"
        },
        "id": "HUSF-Su091Io",
        "outputId": "b565a03a-05a4-4db1-bd08-ab131ea1edc1"
      },
      "execution_count": null,
      "outputs": [
        {
          "output_type": "stream",
          "name": "stdout",
          "text": [
            "my name is Subham and my age is 25\n",
            "my name is Subham and i am 25 years old\n",
            "He said, \"Python is awesome!\"\n",
            "Line1\n",
            "Line2\n",
            "Column1\tColumn2\n",
            "b'hello'\n",
            "hello\n",
            "False\n",
            "True\n",
            "True\n",
            "True\n"
          ]
        }
      ]
    },
    {
      "cell_type": "markdown",
      "source": [
        "Case-Insensitive String Comparison in Python\n",
        "\n",
        "1. Case-insensitive comparison means comparing two strings without considering whether letters are uppercase or lowercase.\n",
        "2. Why is it needed?\n",
        "Sometimes, \"Python\" and \"python\" should be considered equal, especially in:\n",
        "\n",
        "User input validation\n",
        "Searching/filtering\n",
        "Sorting\n"
      ],
      "metadata": {
        "id": "UqZFQIMsAzKb"
      }
    },
    {
      "cell_type": "code",
      "source": [
        "# How to do it?\n",
        "\n",
        "# You can convert both strings to the same case (usually lowercase or uppercase) before comparing:\n",
        "\n",
        "a = \"Python\"\n",
        "b = \"python\"\n",
        "\n",
        "# Convert both to lowercase\n",
        "print(a.lower() == b.lower())  # Output: True\n",
        "\n",
        "# Or convert both to uppercase\n",
        "print(a.upper() == b.upper())  # Output: True"
      ],
      "metadata": {
        "colab": {
          "base_uri": "https://localhost:8080/"
        },
        "id": "o-hDiD6O-JnJ",
        "outputId": "8ceb3f86-2450-4bf7-8c5a-6b1ffbf13ec6"
      },
      "execution_count": null,
      "outputs": [
        {
          "output_type": "stream",
          "name": "stdout",
          "text": [
            "True\n",
            "True\n"
          ]
        }
      ]
    },
    {
      "cell_type": "markdown",
      "source": [
        "**Bonus: Case-insensitive in check**"
      ],
      "metadata": {
        "id": "d87Mf8pjBE5o"
      }
    },
    {
      "cell_type": "code",
      "source": [
        "text = \"Learning Python is fun!\"\n",
        "print(\"python\" in text.lower())  # Output: True\n"
      ],
      "metadata": {
        "colab": {
          "base_uri": "https://localhost:8080/"
        },
        "id": "mVsy1zHJBA9N",
        "outputId": "b7bf0cb3-376d-4137-f228-3129f115f0c8"
      },
      "execution_count": null,
      "outputs": [
        {
          "output_type": "stream",
          "name": "stdout",
          "text": [
            "True\n"
          ]
        }
      ]
    },
    {
      "cell_type": "markdown",
      "source": [
        "**When to use .casefold() instead of .lower()**\n",
        "1. .casefold() is more aggressive and better for internationalized text comparison:"
      ],
      "metadata": {
        "id": "OmtccRSKBHwZ"
      }
    },
    {
      "cell_type": "code",
      "source": [
        "a = \"Straße\"\n",
        "b = \"strasse\"\n",
        "\n",
        "print(a.lower() == b.lower())      # False\n",
        "print(a.casefold() == b.casefold())  # True ✅"
      ],
      "metadata": {
        "colab": {
          "base_uri": "https://localhost:8080/"
        },
        "id": "z99AWRVABHUc",
        "outputId": "0767c14f-cc54-4871-fb89-58a12d0afedd"
      },
      "execution_count": null,
      "outputs": [
        {
          "output_type": "stream",
          "name": "stdout",
          "text": [
            "False\n",
            "True\n"
          ]
        }
      ]
    },
    {
      "cell_type": "markdown",
      "source": [
        "**encoding Decoding**\n",
        "\n",
        "1. 1. Original String   text = \"hello\"\n",
        "\n"
      ],
      "metadata": {
        "id": "uA4ZDtn9Bt2w"
      }
    },
    {
      "cell_type": "code",
      "source": [
        "#encoding Decoding\n",
        "\n",
        "text = \"hello\" #This is a regular Python string (type: str).\n",
        "\n",
        "\n",
        "encoded = text.encode()         # b'hello'\n",
        "\n",
        "\"\"\"This converts the string into bytes using the default encoding (utf-8).\n",
        "Result: b'hello' (a bytes object)\n",
        "Type: bytes\n",
        "Why? Because computers store and transmit data in binary, not text. Encoding is how we convert human-readable text into machine-readable bytes.\"\"\"\n",
        "\n",
        "\n",
        "decoded = encoded.decode()      # 'hello'\n",
        "\"\"\"\n",
        "This converts the bytes back into a string.\n",
        "Result: 'hello' (a regular string again)\n",
        "Type: str\"\"\"\n",
        "\n"
      ],
      "metadata": {
        "colab": {
          "base_uri": "https://localhost:8080/",
          "height": 35
        },
        "id": "tGjMCHbfBOCc",
        "outputId": "d62b5db0-5daa-4fa6-914a-7b83831be64f"
      },
      "execution_count": null,
      "outputs": [
        {
          "output_type": "execute_result",
          "data": {
            "text/plain": [
              "\"\\nThis converts the bytes back into a string.\\nResult: 'hello' (a regular string again)\\nType: str\""
            ],
            "application/vnd.google.colaboratory.intrinsic+json": {
              "type": "string"
            }
          },
          "metadata": {},
          "execution_count": 52
        }
      ]
    },
    {
      "cell_type": "code",
      "source": [],
      "metadata": {
        "id": "_ABnryrUCElM"
      },
      "execution_count": null,
      "outputs": []
    }
  ]
}